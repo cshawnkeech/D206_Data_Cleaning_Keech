{
 "cells": [
  {
   "cell_type": "markdown",
   "metadata": {},
   "source": [
    "# Medical Data: EDA\n"
   ]
  },
  {
   "cell_type": "markdown",
   "metadata": {},
   "source": [
    "## Imports\n"
   ]
  },
  {
   "cell_type": "code",
   "execution_count": 1,
   "metadata": {},
   "outputs": [],
   "source": [
    "import sys\n",
    "\n",
    "# adds everything in the directory above to the path\n",
    "sys.path.insert(0, '../')"
   ]
  },
  {
   "cell_type": "code",
   "execution_count": 2,
   "metadata": {},
   "outputs": [],
   "source": [
    "# autoreload all libraries/modules\n",
    "%load_ext autoreload\n",
    "%autoreload 2"
   ]
  },
  {
   "cell_type": "code",
   "execution_count": 3,
   "metadata": {},
   "outputs": [],
   "source": [
    "import numpy as np\n",
    "\n",
    "import pandas as pd\n",
    "from pandas.api.types import CategoricalDtype"
   ]
  },
  {
   "cell_type": "code",
   "execution_count": 4,
   "metadata": {},
   "outputs": [
    {
     "data": {
      "text/plain": [
       "'2.2.1'"
      ]
     },
     "execution_count": 4,
     "metadata": {},
     "output_type": "execute_result"
    }
   ],
   "source": [
    "pd.__version__"
   ]
  },
  {
   "cell_type": "code",
   "execution_count": 5,
   "metadata": {},
   "outputs": [],
   "source": [
    "# plotting & graphing imports\n",
    "import missingno as msno\n",
    "\n",
    "import matplotlib.pyplot as plt\n",
    "import seaborn as sns"
   ]
  },
  {
   "cell_type": "code",
   "execution_count": 6,
   "metadata": {},
   "outputs": [],
   "source": [
    "# string linkage imports\n",
    "from thefuzz import fuzz, process\n",
    "import recordlinkage"
   ]
  },
  {
   "cell_type": "markdown",
   "metadata": {},
   "source": [
    "Custom\n"
   ]
  },
  {
   "cell_type": "code",
   "execution_count": 7,
   "metadata": {},
   "outputs": [],
   "source": [
    "from src.generate_report import check_for_categorical"
   ]
  },
  {
   "cell_type": "markdown",
   "metadata": {},
   "source": [
    "## Data Import & Initial Data Integrity Checks\n"
   ]
  },
  {
   "cell_type": "code",
   "execution_count": 8,
   "metadata": {},
   "outputs": [],
   "source": [
    "path = \"../data/medical_raw_data.csv\"\n",
    "\n",
    "medical = pd.read_csv(path)"
   ]
  },
  {
   "cell_type": "code",
   "execution_count": 9,
   "metadata": {},
   "outputs": [
    {
     "data": {
      "text/plain": [
       "(10000, 53)"
      ]
     },
     "execution_count": 9,
     "metadata": {},
     "output_type": "execute_result"
    }
   ],
   "source": [
    "medical.shape"
   ]
  },
  {
   "cell_type": "markdown",
   "metadata": {},
   "source": [
    "As there are 53 columns, transposing the sample will make the column\n",
    "names easier to read.\n"
   ]
  },
  {
   "cell_type": "code",
   "execution_count": 10,
   "metadata": {},
   "outputs": [],
   "source": [
    "# display(medical.sample(5).T)"
   ]
  },
  {
   "cell_type": "markdown",
   "metadata": {},
   "source": [
    "### Check data types & non-null values\n"
   ]
  },
  {
   "cell_type": "code",
   "execution_count": 11,
   "metadata": {},
   "outputs": [
    {
     "name": "stdout",
     "output_type": "stream",
     "text": [
      "<class 'pandas.core.frame.DataFrame'>\n",
      "RangeIndex: 10000 entries, 0 to 9999\n",
      "Data columns (total 53 columns):\n",
      " #   Column              Non-Null Count  Dtype  \n",
      "---  ------              --------------  -----  \n",
      " 0   Unnamed: 0          10000 non-null  int64  \n",
      " 1   CaseOrder           10000 non-null  int64  \n",
      " 2   Customer_id         10000 non-null  object \n",
      " 3   Interaction         10000 non-null  object \n",
      " 4   UID                 10000 non-null  object \n",
      " 5   City                10000 non-null  object \n",
      " 6   State               10000 non-null  object \n",
      " 7   County              10000 non-null  object \n",
      " 8   Zip                 10000 non-null  int64  \n",
      " 9   Lat                 10000 non-null  float64\n",
      " 10  Lng                 10000 non-null  float64\n",
      " 11  Population          10000 non-null  int64  \n",
      " 12  Area                10000 non-null  object \n",
      " 13  Timezone            10000 non-null  object \n",
      " 14  Job                 10000 non-null  object \n",
      " 15  Children            7412 non-null   float64\n",
      " 16  Age                 7586 non-null   float64\n",
      " 17  Education           10000 non-null  object \n",
      " 18  Employment          10000 non-null  object \n",
      " 19  Income              7536 non-null   float64\n",
      " 20  Marital             10000 non-null  object \n",
      " 21  Gender              10000 non-null  object \n",
      " 22  ReAdmis             10000 non-null  object \n",
      " 23  VitD_levels         10000 non-null  float64\n",
      " 24  Doc_visits          10000 non-null  int64  \n",
      " 25  Full_meals_eaten    10000 non-null  int64  \n",
      " 26  VitD_supp           10000 non-null  int64  \n",
      " 27  Soft_drink          7533 non-null   object \n",
      " 28  Initial_admin       10000 non-null  object \n",
      " 29  HighBlood           10000 non-null  object \n",
      " 30  Stroke              10000 non-null  object \n",
      " 31  Complication_risk   10000 non-null  object \n",
      " 32  Overweight          9018 non-null   float64\n",
      " 33  Arthritis           10000 non-null  object \n",
      " 34  Diabetes            10000 non-null  object \n",
      " 35  Hyperlipidemia      10000 non-null  object \n",
      " 36  BackPain            10000 non-null  object \n",
      " 37  Anxiety             9016 non-null   float64\n",
      " 38  Allergic_rhinitis   10000 non-null  object \n",
      " 39  Reflux_esophagitis  10000 non-null  object \n",
      " 40  Asthma              10000 non-null  object \n",
      " 41  Services            10000 non-null  object \n",
      " 42  Initial_days        8944 non-null   float64\n",
      " 43  TotalCharge         10000 non-null  float64\n",
      " 44  Additional_charges  10000 non-null  float64\n",
      " 45  Item1               10000 non-null  int64  \n",
      " 46  Item2               10000 non-null  int64  \n",
      " 47  Item3               10000 non-null  int64  \n",
      " 48  Item4               10000 non-null  int64  \n",
      " 49  Item5               10000 non-null  int64  \n",
      " 50  Item6               10000 non-null  int64  \n",
      " 51  Item7               10000 non-null  int64  \n",
      " 52  Item8               10000 non-null  int64  \n",
      "dtypes: float64(11), int64(15), object(27)\n",
      "memory usage: 4.0+ MB\n"
     ]
    }
   ],
   "source": [
    "medical.info()"
   ]
  },
  {
   "cell_type": "markdown",
   "metadata": {},
   "source": [
    "### Drop superfluous indexing columns\n",
    "\n",
    "The original dataset includes two identical columns that exist to\n",
    "preserve the original record order. These two columns can be dropped as\n",
    "pandas already provides a numeric index.\n"
   ]
  },
  {
   "cell_type": "code",
   "execution_count": 12,
   "metadata": {},
   "outputs": [
    {
     "data": {
      "text/html": [
       "<div>\n",
       "<style scoped>\n",
       "    .dataframe tbody tr th:only-of-type {\n",
       "        vertical-align: middle;\n",
       "    }\n",
       "\n",
       "    .dataframe tbody tr th {\n",
       "        vertical-align: top;\n",
       "    }\n",
       "\n",
       "    .dataframe thead th {\n",
       "        text-align: right;\n",
       "    }\n",
       "</style>\n",
       "<table border=\"1\" class=\"dataframe\">\n",
       "  <thead>\n",
       "    <tr style=\"text-align: right;\">\n",
       "      <th></th>\n",
       "      <th>Unnamed: 0</th>\n",
       "      <th>CaseOrder</th>\n",
       "    </tr>\n",
       "  </thead>\n",
       "  <tbody>\n",
       "    <tr>\n",
       "      <th>0</th>\n",
       "      <td>1</td>\n",
       "      <td>1</td>\n",
       "    </tr>\n",
       "    <tr>\n",
       "      <th>1</th>\n",
       "      <td>2</td>\n",
       "      <td>2</td>\n",
       "    </tr>\n",
       "    <tr>\n",
       "      <th>2</th>\n",
       "      <td>3</td>\n",
       "      <td>3</td>\n",
       "    </tr>\n",
       "    <tr>\n",
       "      <th>3</th>\n",
       "      <td>4</td>\n",
       "      <td>4</td>\n",
       "    </tr>\n",
       "    <tr>\n",
       "      <th>4</th>\n",
       "      <td>5</td>\n",
       "      <td>5</td>\n",
       "    </tr>\n",
       "    <tr>\n",
       "      <th>...</th>\n",
       "      <td>...</td>\n",
       "      <td>...</td>\n",
       "    </tr>\n",
       "    <tr>\n",
       "      <th>9995</th>\n",
       "      <td>9996</td>\n",
       "      <td>9996</td>\n",
       "    </tr>\n",
       "    <tr>\n",
       "      <th>9996</th>\n",
       "      <td>9997</td>\n",
       "      <td>9997</td>\n",
       "    </tr>\n",
       "    <tr>\n",
       "      <th>9997</th>\n",
       "      <td>9998</td>\n",
       "      <td>9998</td>\n",
       "    </tr>\n",
       "    <tr>\n",
       "      <th>9998</th>\n",
       "      <td>9999</td>\n",
       "      <td>9999</td>\n",
       "    </tr>\n",
       "    <tr>\n",
       "      <th>9999</th>\n",
       "      <td>10000</td>\n",
       "      <td>10000</td>\n",
       "    </tr>\n",
       "  </tbody>\n",
       "</table>\n",
       "<p>10000 rows × 2 columns</p>\n",
       "</div>"
      ],
      "text/plain": [
       "      Unnamed: 0  CaseOrder\n",
       "0              1          1\n",
       "1              2          2\n",
       "2              3          3\n",
       "3              4          4\n",
       "4              5          5\n",
       "...          ...        ...\n",
       "9995        9996       9996\n",
       "9996        9997       9997\n",
       "9997        9998       9998\n",
       "9998        9999       9999\n",
       "9999       10000      10000\n",
       "\n",
       "[10000 rows x 2 columns]"
      ]
     },
     "execution_count": 12,
     "metadata": {},
     "output_type": "execute_result"
    }
   ],
   "source": [
    "medical.iloc[:, 0:2]"
   ]
  },
  {
   "cell_type": "code",
   "execution_count": 13,
   "metadata": {},
   "outputs": [],
   "source": [
    "medical = medical.drop(medical.columns[[0, 1]], axis=1)"
   ]
  },
  {
   "cell_type": "code",
   "execution_count": 14,
   "metadata": {},
   "outputs": [
    {
     "data": {
      "text/plain": [
       "(51,)"
      ]
     },
     "execution_count": 14,
     "metadata": {},
     "output_type": "execute_result"
    }
   ],
   "source": [
    "medical.columns.shape"
   ]
  },
  {
   "cell_type": "markdown",
   "metadata": {},
   "source": [
    "#### Columns containing null values\n",
    "\n",
    "These columns contain null values:\n",
    "\n",
    "| Category     | Nulls |\n",
    "| ------------ | ----- |\n",
    "| Children     | 2588  |\n",
    "| Age          | 2414  |\n",
    "| Income       | 2464  |\n",
    "| Soft_drink   | 2467  |\n",
    "| Overweight   | 982   |\n",
    "| Anxiety      | 984   |\n",
    "| Initial_days | 1056  |\n"
   ]
  },
  {
   "cell_type": "code",
   "execution_count": 15,
   "metadata": {},
   "outputs": [
    {
     "data": {
      "text/plain": [
       "Children        2588\n",
       "Age             2414\n",
       "Income          2464\n",
       "Soft_drink      2467\n",
       "Overweight       982\n",
       "Anxiety          984\n",
       "Initial_days    1056\n",
       "dtype: int64"
      ]
     },
     "metadata": {},
     "output_type": "display_data"
    },
    {
     "data": {
      "text/plain": [
       "Index(['Children', 'Age', 'Income', 'Soft_drink', 'Overweight', 'Anxiety',\n",
       "       'Initial_days'],\n",
       "      dtype='object')"
      ]
     },
     "metadata": {},
     "output_type": "display_data"
    }
   ],
   "source": [
    "# Columns containing null values\n",
    "column_contains_null_counts = medical.isna().sum()[medical.isna().sum() > 0]\n",
    "\n",
    "# index names of these columns\n",
    "column_contains_null = column_contains_null_counts.index\n",
    "\n",
    "display(\n",
    "    column_contains_null_counts,\n",
    "    column_contains_null)"
   ]
  },
  {
   "cell_type": "code",
   "execution_count": null,
   "metadata": {},
   "outputs": [],
   "source": []
  },
  {
   "cell_type": "markdown",
   "metadata": {},
   "source": [
    "## Categorical Data\n",
    "\n",
    "It's good practice to ensure categorical data is defined as such. The\n",
    "`check_for_categorical` function creates a report and returns a list of\n",
    "columns where the number of unique value counts remain under a given\n",
    "threshold (with a default of 30).\n"
   ]
  },
  {
   "cell_type": "code",
   "execution_count": 16,
   "metadata": {},
   "outputs": [],
   "source": [
    "possible_categories = check_for_categorical(\n",
    "    medical,\n",
    "    file=\"../reports/medical_cat_report.txt\")"
   ]
  },
  {
   "cell_type": "code",
   "execution_count": 17,
   "metadata": {},
   "outputs": [
    {
     "name": "stdout",
     "output_type": "stream",
     "text": [
      "34\n",
      "['Area', 'Timezone', 'Children', 'Education', 'Employment', 'Marital', 'Gender', 'ReAdmis', 'Doc_visits', 'Full_meals_eaten', 'VitD_supp', 'Soft_drink', 'Initial_admin', 'HighBlood', 'Stroke', 'Complication_risk', 'Overweight', 'Arthritis', 'Diabetes', 'Hyperlipidemia', 'BackPain', 'Anxiety', 'Allergic_rhinitis', 'Reflux_esophagitis', 'Asthma', 'Services', 'Item1', 'Item2', 'Item3', 'Item4', 'Item5', 'Item6', 'Item7', 'Item8']\n"
     ]
    }
   ],
   "source": [
    "print(len(possible_categories))\n",
    "print(possible_categories)"
   ]
  },
  {
   "cell_type": "markdown",
   "metadata": {},
   "source": [
    "Manual inspection suggests that these included column names should not be\n",
    "considered categorical.\n",
    "\n",
    "- Children\n",
    "- Doc_visits\n",
    "- Full_meals_eaten\n",
    "- VitD_supp\n"
   ]
  },
  {
   "cell_type": "code",
   "execution_count": 18,
   "metadata": {},
   "outputs": [],
   "source": [
    "for cat in [\"Children\", \"Doc_visits\", \"Full_meals_eaten\", \"VitD_supp\"]:\n",
    "\n",
    "    if cat in possible_categories:\n",
    "        possible_categories.remove(cat)"
   ]
  },
  {
   "cell_type": "markdown",
   "metadata": {},
   "source": [
    "Manual inspection indicates that these columns should additionally be\n",
    "considered categorical:\n",
    "\n",
    "- City\n",
    "- State\n",
    "- County\n",
    "\n",
    "These should added to the list of columns be cast to a categorical type.\n"
   ]
  },
  {
   "cell_type": "code",
   "execution_count": 19,
   "metadata": {},
   "outputs": [],
   "source": [
    "for cat in [\"City\", \"State\", \"County\"]:\n",
    "\n",
    "    if cat not in possible_categories:\n",
    "        possible_categories.append(cat)"
   ]
  },
  {
   "cell_type": "code",
   "execution_count": 20,
   "metadata": {},
   "outputs": [
    {
     "name": "stdout",
     "output_type": "stream",
     "text": [
      "['Area', 'Timezone', 'Education', 'Employment', 'Marital', 'Gender', 'ReAdmis', 'Soft_drink', 'Initial_admin', 'HighBlood', 'Stroke', 'Complication_risk', 'Overweight', 'Arthritis', 'Diabetes', 'Hyperlipidemia', 'BackPain', 'Anxiety', 'Allergic_rhinitis', 'Reflux_esophagitis', 'Asthma', 'Services', 'Item1', 'Item2', 'Item3', 'Item4', 'Item5', 'Item6', 'Item7', 'Item8', 'City', 'State', 'County']\n"
     ]
    }
   ],
   "source": [
    "print(possible_categories)"
   ]
  },
  {
   "cell_type": "code",
   "execution_count": 21,
   "metadata": {},
   "outputs": [],
   "source": [
    "# cast to categorical\n",
    "for cat in possible_categories:\n",
    "    medical[cat] = medical[cat].astype('category')"
   ]
  },
  {
   "cell_type": "code",
   "execution_count": 22,
   "metadata": {},
   "outputs": [
    {
     "name": "stdout",
     "output_type": "stream",
     "text": [
      "<class 'pandas.core.frame.DataFrame'>\n",
      "RangeIndex: 10000 entries, 0 to 9999\n",
      "Data columns (total 51 columns):\n",
      " #   Column              Non-Null Count  Dtype   \n",
      "---  ------              --------------  -----   \n",
      " 0   Customer_id         10000 non-null  object  \n",
      " 1   Interaction         10000 non-null  object  \n",
      " 2   UID                 10000 non-null  object  \n",
      " 3   City                10000 non-null  category\n",
      " 4   State               10000 non-null  category\n",
      " 5   County              10000 non-null  category\n",
      " 6   Zip                 10000 non-null  int64   \n",
      " 7   Lat                 10000 non-null  float64 \n",
      " 8   Lng                 10000 non-null  float64 \n",
      " 9   Population          10000 non-null  int64   \n",
      " 10  Area                10000 non-null  category\n",
      " 11  Timezone            10000 non-null  category\n",
      " 12  Job                 10000 non-null  object  \n",
      " 13  Children            7412 non-null   float64 \n",
      " 14  Age                 7586 non-null   float64 \n",
      " 15  Education           10000 non-null  category\n",
      " 16  Employment          10000 non-null  category\n",
      " 17  Income              7536 non-null   float64 \n",
      " 18  Marital             10000 non-null  category\n",
      " 19  Gender              10000 non-null  category\n",
      " 20  ReAdmis             10000 non-null  category\n",
      " 21  VitD_levels         10000 non-null  float64 \n",
      " 22  Doc_visits          10000 non-null  int64   \n",
      " 23  Full_meals_eaten    10000 non-null  int64   \n",
      " 24  VitD_supp           10000 non-null  int64   \n",
      " 25  Soft_drink          7533 non-null   category\n",
      " 26  Initial_admin       10000 non-null  category\n",
      " 27  HighBlood           10000 non-null  category\n",
      " 28  Stroke              10000 non-null  category\n",
      " 29  Complication_risk   10000 non-null  category\n",
      " 30  Overweight          9018 non-null   category\n",
      " 31  Arthritis           10000 non-null  category\n",
      " 32  Diabetes            10000 non-null  category\n",
      " 33  Hyperlipidemia      10000 non-null  category\n",
      " 34  BackPain            10000 non-null  category\n",
      " 35  Anxiety             9016 non-null   category\n",
      " 36  Allergic_rhinitis   10000 non-null  category\n",
      " 37  Reflux_esophagitis  10000 non-null  category\n",
      " 38  Asthma              10000 non-null  category\n",
      " 39  Services            10000 non-null  category\n",
      " 40  Initial_days        8944 non-null   float64 \n",
      " 41  TotalCharge         10000 non-null  float64 \n",
      " 42  Additional_charges  10000 non-null  float64 \n",
      " 43  Item1               10000 non-null  category\n",
      " 44  Item2               10000 non-null  category\n",
      " 45  Item3               10000 non-null  category\n",
      " 46  Item4               10000 non-null  category\n",
      " 47  Item5               10000 non-null  category\n",
      " 48  Item6               10000 non-null  category\n",
      " 49  Item7               10000 non-null  category\n",
      " 50  Item8               10000 non-null  category\n",
      "dtypes: category(33), float64(9), int64(5), object(4)\n",
      "memory usage: 2.0+ MB\n"
     ]
    }
   ],
   "source": [
    "medical.info()"
   ]
  },
  {
   "cell_type": "markdown",
   "metadata": {},
   "source": [
    "### Categories with custom ordering\n",
    "\n",
    "- [pandas.DataFrame.astype](https://pandas.pydata.org/docs/reference/api/pandas.DataFrame.astype.html)\n"
   ]
  },
  {
   "cell_type": "markdown",
   "metadata": {},
   "source": [
    "### Complication risk Ordering\n",
    "\n",
    "The `Complication_risk` category represents the 'level of complication\n",
    "risk for the patient as assessed by a primary patient assessment'. It has\n",
    "three categories that can be ordered.\n",
    "\n",
    "- Low\n",
    "- Medium\n",
    "- High\n"
   ]
  },
  {
   "cell_type": "code",
   "execution_count": 23,
   "metadata": {},
   "outputs": [
    {
     "data": {
      "text/plain": [
       "Complication_risk\n",
       "Medium    4517\n",
       "High      3358\n",
       "Low       2125\n",
       "Name: count, dtype: int64"
      ]
     },
     "execution_count": 23,
     "metadata": {},
     "output_type": "execute_result"
    }
   ],
   "source": [
    "medical['Complication_risk'].value_counts(dropna=False)"
   ]
  },
  {
   "cell_type": "code",
   "execution_count": 24,
   "metadata": {},
   "outputs": [],
   "source": [
    "complication_order = [\n",
    "    'Low',\n",
    "    'Medium',\n",
    "    'High'\n",
    "]\n",
    "\n",
    "complication_dtype = CategoricalDtype(\n",
    "    categories=complication_order,\n",
    "    ordered=True)\n",
    "\n",
    "medical[\"Complication_risk\"] = (\n",
    "    medical[\"Complication_risk\"].astype(complication_dtype))"
   ]
  },
  {
   "cell_type": "markdown",
   "metadata": {},
   "source": [
    "#### Education ordering\n",
    "\n",
    "The named education categories represent various levels of education. Although some wide differences are very obvious (e.g. `No Schooling Completed` compared to `Doctorate Degree`) A few are a little more ambiguous.\n",
    "\n",
    "Here is a proposed order.\n",
    "\n",
    "Education:\n",
    "\n",
    "- No Schooling Completed\n",
    "- Nursery School to 8th Grade\n",
    "- 9th Grade to 12th Grade, No Diploma\n",
    "- GED or Alternative Credential\n",
    "- Regular High School Diploma\n",
    "- Some College, Less than 1 Year\n",
    "- Some College, 1 or More Years, No Degree\n",
    "- Associate's Degree\n",
    "- Bachelor's Degree\n",
    "- Master's Degree\n",
    "- Doctorate Degree\n",
    "- Professional School Degree\n"
   ]
  },
  {
   "cell_type": "code",
   "execution_count": 25,
   "metadata": {},
   "outputs": [],
   "source": [
    "ed_order = [\n",
    "    \"No Schooling Completed\",\n",
    "    \"Nursery School to 8th Grade\",\n",
    "    \"9th Grade to 12th Grade, No Diploma\",\n",
    "    \"GED or Alternative Credential\",\n",
    "    \"Regular High School Diploma\",\n",
    "    \"Some College, Less than 1 Year\",\n",
    "    \"Some College, 1 or More Years, No Degree\",\n",
    "    \"Associate's Degree\",\n",
    "    \"Bachelor's Degree\",\n",
    "    \"Master's Degree\",\n",
    "    \"Doctorate Degree\",\n",
    "    \"Professional School Degree\"]\n",
    "\n",
    "ed_dtype = CategoricalDtype(\n",
    "    categories=ed_order,\n",
    "    ordered=True)\n",
    "\n",
    "medical[\"Education\"] = medical[\"Education\"].astype(ed_dtype)"
   ]
  },
  {
   "cell_type": "markdown",
   "metadata": {},
   "source": [
    "#### Survey Question ordering\n"
   ]
  },
  {
   "cell_type": "code",
   "execution_count": 26,
   "metadata": {},
   "outputs": [],
   "source": [
    "item_order = [8, 7, 6, 5, 4, 3, 2, 1]\n",
    "\n",
    "item_dtype = CategoricalDtype(\n",
    "    categories=item_order,\n",
    "    ordered=True)\n",
    "\n",
    "for i in range(1, 9):\n",
    "\n",
    "    medical[f\"Item{i}\"] = medical[f\"Item{i}\"].astype(item_dtype)"
   ]
  },
  {
   "cell_type": "markdown",
   "metadata": {},
   "source": [
    "#### Zip Codes\n",
    "\n",
    "Zip codes have an additional challenge, as zip codes can begin with\n",
    "leading zeros.\n",
    "\n",
    "Zip codes in this dataset\n",
    "\n",
    "- are limited to US locations\n",
    "- do not include any \"+ 4\" codes\n",
    "\n",
    "Process:\n",
    "\n",
    "- Convert to string\n",
    "- Use `rjust` to pad left with zeros for any short zip codes\n",
    "- Convert to categorical\n"
   ]
  },
  {
   "cell_type": "code",
   "execution_count": 27,
   "metadata": {},
   "outputs": [
    {
     "data": {
      "text/plain": [
       "7945    00610\n",
       "1339    00617\n",
       "5813    00622\n",
       "8932    00624\n",
       "1378    00631\n",
       "Name: Zip, dtype: object"
      ]
     },
     "execution_count": 27,
     "metadata": {},
     "output_type": "execute_result"
    }
   ],
   "source": [
    "medical['Zip'] = medical['Zip'].astype(str).str.rjust(5, '0')\n",
    "\n",
    "# visually confirm conversion & padding\n",
    "medical['Zip'].sort_values().head()"
   ]
  },
  {
   "cell_type": "code",
   "execution_count": 28,
   "metadata": {},
   "outputs": [
    {
     "data": {
      "text/plain": [
       "count     10000\n",
       "unique     8612\n",
       "top       24136\n",
       "freq          4\n",
       "Name: Zip, dtype: object"
      ]
     },
     "execution_count": 28,
     "metadata": {},
     "output_type": "execute_result"
    }
   ],
   "source": [
    "# convert to categorical\n",
    "medical['Zip'] = pd.Categorical(medical['Zip'])\n",
    "\n",
    "medical['Zip'].describe()"
   ]
  },
  {
   "cell_type": "markdown",
   "metadata": {},
   "source": [
    "### Confirm categorical\n"
   ]
  },
  {
   "cell_type": "code",
   "execution_count": 29,
   "metadata": {},
   "outputs": [
    {
     "name": "stdout",
     "output_type": "stream",
     "text": [
      "<class 'pandas.core.frame.DataFrame'>\n",
      "RangeIndex: 10000 entries, 0 to 9999\n",
      "Data columns (total 51 columns):\n",
      " #   Column              Non-Null Count  Dtype   \n",
      "---  ------              --------------  -----   \n",
      " 0   Customer_id         10000 non-null  object  \n",
      " 1   Interaction         10000 non-null  object  \n",
      " 2   UID                 10000 non-null  object  \n",
      " 3   City                10000 non-null  category\n",
      " 4   State               10000 non-null  category\n",
      " 5   County              10000 non-null  category\n",
      " 6   Zip                 10000 non-null  category\n",
      " 7   Lat                 10000 non-null  float64 \n",
      " 8   Lng                 10000 non-null  float64 \n",
      " 9   Population          10000 non-null  int64   \n",
      " 10  Area                10000 non-null  category\n",
      " 11  Timezone            10000 non-null  category\n",
      " 12  Job                 10000 non-null  object  \n",
      " 13  Children            7412 non-null   float64 \n",
      " 14  Age                 7586 non-null   float64 \n",
      " 15  Education           10000 non-null  category\n",
      " 16  Employment          10000 non-null  category\n",
      " 17  Income              7536 non-null   float64 \n",
      " 18  Marital             10000 non-null  category\n",
      " 19  Gender              10000 non-null  category\n",
      " 20  ReAdmis             10000 non-null  category\n",
      " 21  VitD_levels         10000 non-null  float64 \n",
      " 22  Doc_visits          10000 non-null  int64   \n",
      " 23  Full_meals_eaten    10000 non-null  int64   \n",
      " 24  VitD_supp           10000 non-null  int64   \n",
      " 25  Soft_drink          7533 non-null   category\n",
      " 26  Initial_admin       10000 non-null  category\n",
      " 27  HighBlood           10000 non-null  category\n",
      " 28  Stroke              10000 non-null  category\n",
      " 29  Complication_risk   10000 non-null  category\n",
      " 30  Overweight          9018 non-null   category\n",
      " 31  Arthritis           10000 non-null  category\n",
      " 32  Diabetes            10000 non-null  category\n",
      " 33  Hyperlipidemia      10000 non-null  category\n",
      " 34  BackPain            10000 non-null  category\n",
      " 35  Anxiety             9016 non-null   category\n",
      " 36  Allergic_rhinitis   10000 non-null  category\n",
      " 37  Reflux_esophagitis  10000 non-null  category\n",
      " 38  Asthma              10000 non-null  category\n",
      " 39  Services            10000 non-null  category\n",
      " 40  Initial_days        8944 non-null   float64 \n",
      " 41  TotalCharge         10000 non-null  float64 \n",
      " 42  Additional_charges  10000 non-null  float64 \n",
      " 43  Item1               10000 non-null  category\n",
      " 44  Item2               10000 non-null  category\n",
      " 45  Item3               10000 non-null  category\n",
      " 46  Item4               10000 non-null  category\n",
      " 47  Item5               10000 non-null  category\n",
      " 48  Item6               10000 non-null  category\n",
      " 49  Item7               10000 non-null  category\n",
      " 50  Item8               10000 non-null  category\n",
      "dtypes: category(34), float64(9), int64(4), object(4)\n",
      "memory usage: 2.2+ MB\n"
     ]
    }
   ],
   "source": [
    "medical.info()"
   ]
  },
  {
   "cell_type": "markdown",
   "metadata": {},
   "source": [
    "### Boolean Categorical\n",
    "\n",
    "The categories with only 2 unique values present seem to all be coded\n",
    "`Yes` or `No`. It would be more useful to change these to Boolean values.\n"
   ]
  },
  {
   "cell_type": "code",
   "execution_count": 30,
   "metadata": {},
   "outputs": [
    {
     "data": {
      "text/plain": [
       "['ReAdmis',\n",
       " 'HighBlood',\n",
       " 'Stroke',\n",
       " 'Arthritis',\n",
       " 'Diabetes',\n",
       " 'Hyperlipidemia',\n",
       " 'BackPain',\n",
       " 'Allergic_rhinitis',\n",
       " 'Reflux_esophagitis',\n",
       " 'Asthma']"
      ]
     },
     "execution_count": 30,
     "metadata": {},
     "output_type": "execute_result"
    }
   ],
   "source": [
    "possible_boolean = check_for_categorical(\n",
    "    medical,\n",
    "    threshold=2,\n",
    "    file='../reports/boolean_cat_report.txt')\n",
    "\n",
    "possible_boolean"
   ]
  },
  {
   "cell_type": "code",
   "execution_count": 31,
   "metadata": {},
   "outputs": [
    {
     "name": "stdout",
     "output_type": "stream",
     "text": [
      "<class 'pandas.core.frame.DataFrame'>\n",
      "RangeIndex: 10000 entries, 0 to 9999\n",
      "Data columns (total 10 columns):\n",
      " #   Column              Non-Null Count  Dtype   \n",
      "---  ------              --------------  -----   \n",
      " 0   ReAdmis             10000 non-null  category\n",
      " 1   HighBlood           10000 non-null  category\n",
      " 2   Stroke              10000 non-null  category\n",
      " 3   Arthritis           10000 non-null  category\n",
      " 4   Diabetes            10000 non-null  category\n",
      " 5   Hyperlipidemia      10000 non-null  category\n",
      " 6   BackPain            10000 non-null  category\n",
      " 7   Allergic_rhinitis   10000 non-null  category\n",
      " 8   Reflux_esophagitis  10000 non-null  category\n",
      " 9   Asthma              10000 non-null  category\n",
      "dtypes: category(10)\n",
      "memory usage: 99.0 KB\n"
     ]
    }
   ],
   "source": [
    "medical[possible_boolean].info()"
   ]
  },
  {
   "cell_type": "markdown",
   "metadata": {},
   "source": [
    "- [`pandas.Series.cat.rename_categories`](https://pandas.pydata.org/pandas-docs/stable/reference/api/pandas.Series.cat.rename_categories.html)\n"
   ]
  },
  {
   "cell_type": "code",
   "execution_count": 32,
   "metadata": {},
   "outputs": [],
   "source": [
    "for cat in possible_boolean:\n",
    "\n",
    "    if 'Yes' in list(medical[cat].unique()):\n",
    "\n",
    "        medical[cat] = medical[cat].cat.rename_categories(\n",
    "            {'Yes': 1, 'No': 0})"
   ]
  },
  {
   "cell_type": "code",
   "execution_count": 33,
   "metadata": {},
   "outputs": [],
   "source": [
    "post_convert_boolean = check_for_categorical(\n",
    "    medical,\n",
    "    threshold=2,\n",
    "    file='../reports/boolean_post_convert_report.txt')"
   ]
  },
  {
   "cell_type": "code",
   "execution_count": 34,
   "metadata": {},
   "outputs": [
    {
     "data": {
      "text/html": [
       "<div>\n",
       "<style scoped>\n",
       "    .dataframe tbody tr th:only-of-type {\n",
       "        vertical-align: middle;\n",
       "    }\n",
       "\n",
       "    .dataframe tbody tr th {\n",
       "        vertical-align: top;\n",
       "    }\n",
       "\n",
       "    .dataframe thead th {\n",
       "        text-align: right;\n",
       "    }\n",
       "</style>\n",
       "<table border=\"1\" class=\"dataframe\">\n",
       "  <thead>\n",
       "    <tr style=\"text-align: right;\">\n",
       "      <th></th>\n",
       "      <th>count</th>\n",
       "      <th>unique</th>\n",
       "      <th>top</th>\n",
       "      <th>freq</th>\n",
       "    </tr>\n",
       "  </thead>\n",
       "  <tbody>\n",
       "    <tr>\n",
       "      <th>Area</th>\n",
       "      <td>10000</td>\n",
       "      <td>3</td>\n",
       "      <td>Rural</td>\n",
       "      <td>3369</td>\n",
       "    </tr>\n",
       "    <tr>\n",
       "      <th>Timezone</th>\n",
       "      <td>10000</td>\n",
       "      <td>26</td>\n",
       "      <td>America/New_York</td>\n",
       "      <td>3889</td>\n",
       "    </tr>\n",
       "    <tr>\n",
       "      <th>Education</th>\n",
       "      <td>10000</td>\n",
       "      <td>12</td>\n",
       "      <td>Regular High School Diploma</td>\n",
       "      <td>2444</td>\n",
       "    </tr>\n",
       "    <tr>\n",
       "      <th>Employment</th>\n",
       "      <td>10000</td>\n",
       "      <td>5</td>\n",
       "      <td>Full Time</td>\n",
       "      <td>6029</td>\n",
       "    </tr>\n",
       "    <tr>\n",
       "      <th>Marital</th>\n",
       "      <td>10000</td>\n",
       "      <td>5</td>\n",
       "      <td>Widowed</td>\n",
       "      <td>2045</td>\n",
       "    </tr>\n",
       "    <tr>\n",
       "      <th>Gender</th>\n",
       "      <td>10000</td>\n",
       "      <td>3</td>\n",
       "      <td>Female</td>\n",
       "      <td>5018</td>\n",
       "    </tr>\n",
       "    <tr>\n",
       "      <th>ReAdmis</th>\n",
       "      <td>10000</td>\n",
       "      <td>2</td>\n",
       "      <td>0</td>\n",
       "      <td>6331</td>\n",
       "    </tr>\n",
       "    <tr>\n",
       "      <th>Soft_drink</th>\n",
       "      <td>7533</td>\n",
       "      <td>2</td>\n",
       "      <td>No</td>\n",
       "      <td>5589</td>\n",
       "    </tr>\n",
       "    <tr>\n",
       "      <th>Initial_admin</th>\n",
       "      <td>10000</td>\n",
       "      <td>3</td>\n",
       "      <td>Emergency Admission</td>\n",
       "      <td>5060</td>\n",
       "    </tr>\n",
       "    <tr>\n",
       "      <th>HighBlood</th>\n",
       "      <td>10000</td>\n",
       "      <td>2</td>\n",
       "      <td>0</td>\n",
       "      <td>5910</td>\n",
       "    </tr>\n",
       "    <tr>\n",
       "      <th>Stroke</th>\n",
       "      <td>10000</td>\n",
       "      <td>2</td>\n",
       "      <td>0</td>\n",
       "      <td>8007</td>\n",
       "    </tr>\n",
       "    <tr>\n",
       "      <th>Complication_risk</th>\n",
       "      <td>10000</td>\n",
       "      <td>3</td>\n",
       "      <td>Medium</td>\n",
       "      <td>4517</td>\n",
       "    </tr>\n",
       "    <tr>\n",
       "      <th>Overweight</th>\n",
       "      <td>9018.0</td>\n",
       "      <td>2.0</td>\n",
       "      <td>1.0</td>\n",
       "      <td>6395.0</td>\n",
       "    </tr>\n",
       "    <tr>\n",
       "      <th>Arthritis</th>\n",
       "      <td>10000</td>\n",
       "      <td>2</td>\n",
       "      <td>0</td>\n",
       "      <td>6426</td>\n",
       "    </tr>\n",
       "    <tr>\n",
       "      <th>Diabetes</th>\n",
       "      <td>10000</td>\n",
       "      <td>2</td>\n",
       "      <td>0</td>\n",
       "      <td>7262</td>\n",
       "    </tr>\n",
       "    <tr>\n",
       "      <th>Hyperlipidemia</th>\n",
       "      <td>10000</td>\n",
       "      <td>2</td>\n",
       "      <td>0</td>\n",
       "      <td>6628</td>\n",
       "    </tr>\n",
       "    <tr>\n",
       "      <th>BackPain</th>\n",
       "      <td>10000</td>\n",
       "      <td>2</td>\n",
       "      <td>0</td>\n",
       "      <td>5886</td>\n",
       "    </tr>\n",
       "    <tr>\n",
       "      <th>Anxiety</th>\n",
       "      <td>9016.0</td>\n",
       "      <td>2.0</td>\n",
       "      <td>0.0</td>\n",
       "      <td>6110.0</td>\n",
       "    </tr>\n",
       "    <tr>\n",
       "      <th>Allergic_rhinitis</th>\n",
       "      <td>10000</td>\n",
       "      <td>2</td>\n",
       "      <td>0</td>\n",
       "      <td>6059</td>\n",
       "    </tr>\n",
       "    <tr>\n",
       "      <th>Reflux_esophagitis</th>\n",
       "      <td>10000</td>\n",
       "      <td>2</td>\n",
       "      <td>0</td>\n",
       "      <td>5865</td>\n",
       "    </tr>\n",
       "    <tr>\n",
       "      <th>Asthma</th>\n",
       "      <td>10000</td>\n",
       "      <td>2</td>\n",
       "      <td>0</td>\n",
       "      <td>7107</td>\n",
       "    </tr>\n",
       "    <tr>\n",
       "      <th>Services</th>\n",
       "      <td>10000</td>\n",
       "      <td>4</td>\n",
       "      <td>Blood Work</td>\n",
       "      <td>5265</td>\n",
       "    </tr>\n",
       "    <tr>\n",
       "      <th>Item1</th>\n",
       "      <td>10000</td>\n",
       "      <td>8</td>\n",
       "      <td>4</td>\n",
       "      <td>3455</td>\n",
       "    </tr>\n",
       "    <tr>\n",
       "      <th>Item2</th>\n",
       "      <td>10000</td>\n",
       "      <td>7</td>\n",
       "      <td>3</td>\n",
       "      <td>3439</td>\n",
       "    </tr>\n",
       "    <tr>\n",
       "      <th>Item3</th>\n",
       "      <td>10000</td>\n",
       "      <td>8</td>\n",
       "      <td>4</td>\n",
       "      <td>3464</td>\n",
       "    </tr>\n",
       "    <tr>\n",
       "      <th>Item4</th>\n",
       "      <td>10000</td>\n",
       "      <td>7</td>\n",
       "      <td>3</td>\n",
       "      <td>3422</td>\n",
       "    </tr>\n",
       "    <tr>\n",
       "      <th>Item5</th>\n",
       "      <td>10000</td>\n",
       "      <td>7</td>\n",
       "      <td>4</td>\n",
       "      <td>3446</td>\n",
       "    </tr>\n",
       "    <tr>\n",
       "      <th>Item6</th>\n",
       "      <td>10000</td>\n",
       "      <td>7</td>\n",
       "      <td>4</td>\n",
       "      <td>3464</td>\n",
       "    </tr>\n",
       "    <tr>\n",
       "      <th>Item7</th>\n",
       "      <td>10000</td>\n",
       "      <td>7</td>\n",
       "      <td>4</td>\n",
       "      <td>3487</td>\n",
       "    </tr>\n",
       "    <tr>\n",
       "      <th>Item8</th>\n",
       "      <td>10000</td>\n",
       "      <td>7</td>\n",
       "      <td>3</td>\n",
       "      <td>3401</td>\n",
       "    </tr>\n",
       "    <tr>\n",
       "      <th>City</th>\n",
       "      <td>10000</td>\n",
       "      <td>6072</td>\n",
       "      <td>Houston</td>\n",
       "      <td>36</td>\n",
       "    </tr>\n",
       "    <tr>\n",
       "      <th>State</th>\n",
       "      <td>10000</td>\n",
       "      <td>52</td>\n",
       "      <td>TX</td>\n",
       "      <td>553</td>\n",
       "    </tr>\n",
       "    <tr>\n",
       "      <th>County</th>\n",
       "      <td>10000</td>\n",
       "      <td>1607</td>\n",
       "      <td>Jefferson</td>\n",
       "      <td>118</td>\n",
       "    </tr>\n",
       "  </tbody>\n",
       "</table>\n",
       "</div>"
      ],
      "text/plain": [
       "                     count unique                          top    freq\n",
       "Area                 10000      3                        Rural    3369\n",
       "Timezone             10000     26             America/New_York    3889\n",
       "Education            10000     12  Regular High School Diploma    2444\n",
       "Employment           10000      5                    Full Time    6029\n",
       "Marital              10000      5                      Widowed    2045\n",
       "Gender               10000      3                       Female    5018\n",
       "ReAdmis              10000      2                            0    6331\n",
       "Soft_drink            7533      2                           No    5589\n",
       "Initial_admin        10000      3          Emergency Admission    5060\n",
       "HighBlood            10000      2                            0    5910\n",
       "Stroke               10000      2                            0    8007\n",
       "Complication_risk    10000      3                       Medium    4517\n",
       "Overweight          9018.0    2.0                          1.0  6395.0\n",
       "Arthritis            10000      2                            0    6426\n",
       "Diabetes             10000      2                            0    7262\n",
       "Hyperlipidemia       10000      2                            0    6628\n",
       "BackPain             10000      2                            0    5886\n",
       "Anxiety             9016.0    2.0                          0.0  6110.0\n",
       "Allergic_rhinitis    10000      2                            0    6059\n",
       "Reflux_esophagitis   10000      2                            0    5865\n",
       "Asthma               10000      2                            0    7107\n",
       "Services             10000      4                   Blood Work    5265\n",
       "Item1                10000      8                            4    3455\n",
       "Item2                10000      7                            3    3439\n",
       "Item3                10000      8                            4    3464\n",
       "Item4                10000      7                            3    3422\n",
       "Item5                10000      7                            4    3446\n",
       "Item6                10000      7                            4    3464\n",
       "Item7                10000      7                            4    3487\n",
       "Item8                10000      7                            3    3401\n",
       "City                 10000   6072                      Houston      36\n",
       "State                10000     52                           TX     553\n",
       "County               10000   1607                    Jefferson     118"
      ]
     },
     "execution_count": 34,
     "metadata": {},
     "output_type": "execute_result"
    }
   ],
   "source": [
    "medical[possible_categories].describe().T"
   ]
  },
  {
   "cell_type": "markdown",
   "metadata": {},
   "source": [
    "## Initial missing data check\n"
   ]
  },
  {
   "cell_type": "markdown",
   "metadata": {},
   "source": [
    "Columns with missing values\n",
    "\n",
    "- Children\n",
    "- Age\n",
    "- Income\n",
    "- Soft_drink\n",
    "- Overweight\n",
    "- Anxiety\n",
    "- Initial_days\n"
   ]
  },
  {
   "cell_type": "code",
   "execution_count": 35,
   "metadata": {},
   "outputs": [
    {
     "data": {
      "text/plain": [
       "['Children',\n",
       " 'Age',\n",
       " 'Income',\n",
       " 'Soft_drink',\n",
       " 'Overweight',\n",
       " 'Anxiety',\n",
       " 'Initial_days']"
      ]
     },
     "execution_count": 35,
     "metadata": {},
     "output_type": "execute_result"
    }
   ],
   "source": [
    "# Which columns contain null values\n",
    "def col_contains_nulls(df):\n",
    "\n",
    "    col_lst = list()\n",
    "\n",
    "    for col in df.columns[1:]:\n",
    "\n",
    "        if df[col].isna().sum() > 0:\n",
    "\n",
    "            col_lst.append(col)\n",
    "\n",
    "    return col_lst\n",
    "\n",
    "\n",
    "incomplete_cols = col_contains_nulls(medical)\n",
    "incomplete_cols"
   ]
  },
  {
   "cell_type": "code",
   "execution_count": 36,
   "metadata": {},
   "outputs": [
    {
     "data": {
      "text/plain": [
       "Index(['Children', 'Age', 'Income', 'Soft_drink', 'Overweight', 'Anxiety',\n",
       "       'Initial_days'],\n",
       "      dtype='object')"
      ]
     },
     "execution_count": 36,
     "metadata": {},
     "output_type": "execute_result"
    }
   ],
   "source": [
    "medical[incomplete_cols].isna().sum().index"
   ]
  },
  {
   "cell_type": "code",
   "execution_count": 37,
   "metadata": {},
   "outputs": [
    {
     "data": {
      "text/plain": [
       "Children        2588\n",
       "Age             2414\n",
       "Income          2464\n",
       "Soft_drink      2467\n",
       "Overweight       982\n",
       "Anxiety          984\n",
       "Initial_days    1056\n",
       "dtype: int64"
      ]
     },
     "execution_count": 37,
     "metadata": {},
     "output_type": "execute_result"
    }
   ],
   "source": [
    "medical[incomplete_cols].isna().sum()"
   ]
  },
  {
   "cell_type": "markdown",
   "metadata": {},
   "source": [
    "### Number of Complete observations\n",
    "\n",
    "How many rows would be available if only rows with all observations were\n",
    "kept?\n",
    "\n",
    "It looks like only 2313 records have entries for every feature.\n"
   ]
  },
  {
   "cell_type": "code",
   "execution_count": 38,
   "metadata": {},
   "outputs": [
    {
     "data": {
      "text/plain": [
       "(2313, 51)"
      ]
     },
     "execution_count": 38,
     "metadata": {},
     "output_type": "execute_result"
    }
   ],
   "source": [
    "# dropping rows with any missing values\n",
    "medical.dropna().shape"
   ]
  },
  {
   "cell_type": "markdown",
   "metadata": {},
   "source": [
    "How many columns would be available if only columns with all observations\n",
    "were kept?\n",
    "\n",
    "There are 44 columns that have all observations (7 columns have missing\n",
    "values)\n"
   ]
  },
  {
   "cell_type": "code",
   "execution_count": 39,
   "metadata": {},
   "outputs": [
    {
     "data": {
      "text/plain": [
       "(10000, 44)"
      ]
     },
     "execution_count": 39,
     "metadata": {},
     "output_type": "execute_result"
    }
   ],
   "source": [
    "medical.dropna(axis=1).shape"
   ]
  },
  {
   "cell_type": "markdown",
   "metadata": {},
   "source": [
    "#### Check missing categories against one another\n",
    "\n",
    "There doesn't seem to be any noteworthy correlation between categories\n",
    "containing missing values.\n",
    "\n",
    "This suggests that each category is missing completely at random (MCAR)\n"
   ]
  },
  {
   "cell_type": "code",
   "execution_count": 40,
   "metadata": {},
   "outputs": [
    {
     "data": {
      "text/plain": [
       "<Axes: >"
      ]
     },
     "execution_count": 40,
     "metadata": {},
     "output_type": "execute_result"
    },
    {
     "data": {
      "image/png": "[encoded data removed]",
      "text/plain": [
       "<Figure size 2000x1200 with 2 Axes>"
      ]
     },
     "metadata": {},
     "output_type": "display_data"
    }
   ],
   "source": [
    "msno.heatmap(medical[incomplete_cols])"
   ]
  },
  {
   "cell_type": "code",
   "execution_count": 41,
   "metadata": {},
   "outputs": [
    {
     "data": {
      "text/plain": [
       "<Axes: >"
      ]
     },
     "execution_count": 41,
     "metadata": {},
     "output_type": "execute_result"
    },
    {
     "data": {
      "image/png": "[encoded data removed]",
      "text/plain": [
       "<Figure size 2500x1000 with 1 Axes>"
      ]
     },
     "metadata": {},
     "output_type": "display_data"
    }
   ],
   "source": [
    "msno.dendrogram(medical[incomplete_cols])"
   ]
  },
  {
   "cell_type": "code",
   "execution_count": 42,
   "metadata": {},
   "outputs": [
    {
     "data": {
      "text/plain": [
       "<Axes: >"
      ]
     },
     "execution_count": 42,
     "metadata": {},
     "output_type": "execute_result"
    },
    {
     "data": {
      "image/png": "[encoded data removed]",
      "text/plain": [
       "<Figure size 2500x1300 with 3 Axes>"
      ]
     },
     "metadata": {},
     "output_type": "display_data"
    }
   ],
   "source": [
    "msno.bar(medical)"
   ]
  },
  {
   "cell_type": "code",
   "execution_count": 43,
   "metadata": {},
   "outputs": [
    {
     "data": {
      "text/html": [
       "<div>\n",
       "<style scoped>\n",
       "    .dataframe tbody tr th:only-of-type {\n",
       "        vertical-align: middle;\n",
       "    }\n",
       "\n",
       "    .dataframe tbody tr th {\n",
       "        vertical-align: top;\n",
       "    }\n",
       "\n",
       "    .dataframe thead th {\n",
       "        text-align: right;\n",
       "    }\n",
       "</style>\n",
       "<table border=\"1\" class=\"dataframe\">\n",
       "  <thead>\n",
       "    <tr style=\"text-align: right;\">\n",
       "      <th></th>\n",
       "      <th>Children</th>\n",
       "      <th>Age</th>\n",
       "      <th>Income</th>\n",
       "      <th>Initial_days</th>\n",
       "    </tr>\n",
       "  </thead>\n",
       "  <tbody>\n",
       "    <tr>\n",
       "      <th>count</th>\n",
       "      <td>7412.000000</td>\n",
       "      <td>7586.000000</td>\n",
       "      <td>7536.000000</td>\n",
       "      <td>8944.000000</td>\n",
       "    </tr>\n",
       "    <tr>\n",
       "      <th>mean</th>\n",
       "      <td>2.098219</td>\n",
       "      <td>53.295676</td>\n",
       "      <td>40484.438268</td>\n",
       "      <td>34.432082</td>\n",
       "    </tr>\n",
       "    <tr>\n",
       "      <th>std</th>\n",
       "      <td>2.155427</td>\n",
       "      <td>20.659182</td>\n",
       "      <td>28664.861050</td>\n",
       "      <td>26.287050</td>\n",
       "    </tr>\n",
       "    <tr>\n",
       "      <th>min</th>\n",
       "      <td>0.000000</td>\n",
       "      <td>18.000000</td>\n",
       "      <td>154.080000</td>\n",
       "      <td>1.001981</td>\n",
       "    </tr>\n",
       "    <tr>\n",
       "      <th>25%</th>\n",
       "      <td>0.000000</td>\n",
       "      <td>35.000000</td>\n",
       "      <td>19450.792500</td>\n",
       "      <td>7.911709</td>\n",
       "    </tr>\n",
       "    <tr>\n",
       "      <th>50%</th>\n",
       "      <td>1.000000</td>\n",
       "      <td>53.000000</td>\n",
       "      <td>33942.280000</td>\n",
       "      <td>34.446941</td>\n",
       "    </tr>\n",
       "    <tr>\n",
       "      <th>75%</th>\n",
       "      <td>3.000000</td>\n",
       "      <td>71.000000</td>\n",
       "      <td>54075.235000</td>\n",
       "      <td>61.124654</td>\n",
       "    </tr>\n",
       "    <tr>\n",
       "      <th>max</th>\n",
       "      <td>10.000000</td>\n",
       "      <td>89.000000</td>\n",
       "      <td>207249.130000</td>\n",
       "      <td>71.981486</td>\n",
       "    </tr>\n",
       "  </tbody>\n",
       "</table>\n",
       "</div>"
      ],
      "text/plain": [
       "          Children          Age         Income  Initial_days\n",
       "count  7412.000000  7586.000000    7536.000000   8944.000000\n",
       "mean      2.098219    53.295676   40484.438268     34.432082\n",
       "std       2.155427    20.659182   28664.861050     26.287050\n",
       "min       0.000000    18.000000     154.080000      1.001981\n",
       "25%       0.000000    35.000000   19450.792500      7.911709\n",
       "50%       1.000000    53.000000   33942.280000     34.446941\n",
       "75%       3.000000    71.000000   54075.235000     61.124654\n",
       "max      10.000000    89.000000  207249.130000     71.981486"
      ]
     },
     "execution_count": 43,
     "metadata": {},
     "output_type": "execute_result"
    }
   ],
   "source": [
    "medical[incomplete_cols].describe()"
   ]
  },
  {
   "cell_type": "code",
   "execution_count": null,
   "metadata": {},
   "outputs": [],
   "source": []
  },
  {
   "cell_type": "code",
   "execution_count": 44,
   "metadata": {},
   "outputs": [
    {
     "name": "stdout",
     "output_type": "stream",
     "text": [
      "Customer_id \n",
      "\t ['A231405' 'O00001' 'E648073' 'M762552' 'L630091']\n",
      "Interaction \n",
      "\t ['b1890af1-a330-47ff-baaf-dcce4d61ae22'\n",
      " 'bb3ca4fc-aa16-40b8-b6ff-8e483222f0f5'\n",
      " '7be99b2b-ec66-46ea-a8da-dd141eea527b'\n",
      " '2bcdbb16-d7c1-4289-bb83-93c55ed17a5c'\n",
      " '341bbddb-d05d-4f1c-b387-c78da6389561']\n",
      "UID \n",
      "\t ['a55bf5c2537e52a6366f86731ceda52b' 'ce0e485be8a1a48720cd1f921fd9daeb'\n",
      " '8d50e78934a1012e011fd567756161fb' '13184984f4a54a90f00b34422aba99cc'\n",
      " '7721c6bdfff74198a4e4e46347268a10']\n",
      "City \n",
      "\t ['Zenda', 'Jefferson', 'Searsport', 'La Ward', 'Stoddard']\n",
      "Categories (6072, object): ['Aaronsburg', 'Abbeville', 'Aberdeen', 'Abilene', ..., 'Zelienople', 'Zenda', 'Zenia', 'Zumbro Falls']\n",
      "State \n",
      "\t ['KY', 'MS', 'IL', 'IL', 'OR']\n",
      "Categories (52, object): ['AK', 'AL', 'AR', 'AZ', ..., 'WA', 'WI', 'WV', 'WY']\n",
      "County \n",
      "\t ['Bay', 'Shelby', 'New London', 'Walworth', 'Bannock']\n",
      "Categories (1607, object): ['Abbeville', 'Acadia', 'Accomack', 'Ada', ..., 'Yuma', 'Zapata', 'Zavala', 'Ziebach']\n",
      "Zip \n",
      "\t ['73568', '49051', '22902', '63785', '61018']\n",
      "Categories (8612, object): ['00610', '00617', '00622', '00624', ..., '99919', '99922', '99925', '99929']\n",
      "Lat \n",
      "\t [37.85788 38.77346 29.11249 46.34676 44.59541]\n",
      "Lng \n",
      "\t [ -89.40276  -75.46104  -97.33114  -92.34565 -107.31363]\n",
      "Population \n",
      "\t [ 334    0 9793  563  195]\n",
      "Area \n",
      "\t ['Urban', 'Suburban', 'Rural', 'Urban', 'Rural']\n",
      "Categories (3, object): ['Rural', 'Suburban', 'Urban']\n",
      "Timezone \n",
      "\t ['America/Chicago', 'America/New_York', 'America/Chicago', 'America/Chicago', 'America/Chicago']\n",
      "Categories (26, object): ['America/Adak', 'America/Anchorage', 'America/Boise', 'America/Chicago', ..., 'America/Sitka', 'America/Toronto', 'America/Yakutat', 'Pacific/Honolulu']\n",
      "Job \n",
      "\t ['Teaching laboratory technician' 'Bookseller' 'Health visitor'\n",
      " 'Therapist, drama' 'IT sales professional']\n",
      "Children \n",
      "\t [ 3.  0. nan  3.  0.]\n",
      "Age \n",
      "\t [74. 77. nan 41. 82.]\n",
      "Education \n",
      "\t ['Regular High School Diploma', 'Bachelor's Degree', 'Master's Degree', 'Regular High School Diploma', 'Regular High School Diploma']\n",
      "Categories (12, object): ['No Schooling Completed' < 'Nursery School to 8th Grade' < '9th Grade to 12th Grade, No Diploma' < 'GED or Alternative Credential' ... 'Bachelor's Degree' < 'Master's Degree' < 'Doctorate Degree' < 'Professional School Degree']\n",
      "Employment \n",
      "\t ['Retired', 'Unemployed', 'Full Time', 'Part Time', 'Part Time']\n",
      "Categories (5, object): ['Full Time', 'Part Time', 'Retired', 'Student', 'Unemployed']\n",
      "Income \n",
      "\t [13189.61  5932.67 24806.09 11453.68 24334.6 ]\n",
      "Marital \n",
      "\t ['Never Married', 'Married', 'Married', 'Separated', 'Never Married']\n",
      "Categories (5, object): ['Divorced', 'Married', 'Never Married', 'Separated', 'Widowed']\n",
      "Gender \n",
      "\t ['Male', 'Male', 'Male', 'Male', 'Female']\n",
      "Categories (3, object): ['Female', 'Male', 'Prefer not to answer']\n",
      "ReAdmis \n",
      "\t [0, 0, 1, 0, 0]\n",
      "Categories (2, int64): [0, 1]\n",
      "VitD_levels \n",
      "\t [20.54790433 20.77463511 16.1636458  15.14326878 17.62805107]\n",
      "Doc_visits \n",
      "\t [4 4 6 4 5]\n",
      "Full_meals_eaten \n",
      "\t [1 0 2 2 3]\n",
      "VitD_supp \n",
      "\t [0 0 1 0 0]\n",
      "Soft_drink \n",
      "\t ['No', 'No', 'Yes', 'No', 'No']\n",
      "Categories (2, object): ['No', 'Yes']\n",
      "Initial_admin \n",
      "\t ['Emergency Admission', 'Observation Admission', 'Emergency Admission', 'Observation Admission', 'Observation Admission']\n",
      "Categories (3, object): ['Elective Admission', 'Emergency Admission', 'Observation Admission']\n",
      "HighBlood \n",
      "\t [1, 1, 1, 0, 1]\n",
      "Categories (2, int64): [0, 1]\n",
      "Stroke \n",
      "\t [1, 0, 0, 0, 0]\n",
      "Categories (2, int64): [0, 1]\n",
      "Complication_risk \n",
      "\t ['Low', 'Medium', 'High', 'Low', 'Medium']\n",
      "Categories (3, object): ['Low' < 'Medium' < 'High']\n",
      "Overweight \n",
      "\t [1.0, 1.0, 1.0, 1.0, 0.0]\n",
      "Categories (2, float64): [0.0, 1.0]\n",
      "Arthritis \n",
      "\t [0, 0, 0, 1, 1]\n",
      "Categories (2, int64): [0, 1]\n",
      "Diabetes \n",
      "\t [0, 0, 0, 0, 0]\n",
      "Categories (2, int64): [0, 1]\n",
      "Hyperlipidemia \n",
      "\t [0, 1, 1, 1, 1]\n",
      "Categories (2, int64): [0, 1]\n",
      "BackPain \n",
      "\t [1, 0, 0, 1, 0]\n",
      "Categories (2, int64): [0, 1]\n",
      "Anxiety \n",
      "\t [NaN, 0.0, NaN, 0.0, 1.0]\n",
      "Categories (2, float64): [0.0, 1.0]\n",
      "Allergic_rhinitis \n",
      "\t [0, 0, 0, 0, 0]\n",
      "Categories (2, int64): [0, 1]\n",
      "Reflux_esophagitis \n",
      "\t [0, 0, 0, 0, 1]\n",
      "Categories (2, int64): [0, 1]\n",
      "Asthma \n",
      "\t [0, 0, 1, 0, 0]\n",
      "Categories (2, int64): [0, 1]\n",
      "Services \n",
      "\t ['Intravenous', 'CT Scan', 'Blood Work', 'Intravenous', 'Blood Work']\n",
      "Categories (4, object): ['Blood Work', 'CT Scan', 'Intravenous', 'MRI']\n",
      "Initial_days \n",
      "\t [56.30797235 15.26581151  7.83075883 60.69992025  7.82561535]\n",
      "TotalCharge \n",
      "\t [7567.967774 8700.840111 7805.097379 3080.187587 7329.107521]\n",
      "Additional_charges \n",
      "\t [ 7402.32231   5822.199461 10755.36997   9687.782752 13361.12175 ]\n",
      "Item1 \n",
      "\t [4, 1, 3, 5, 5]\n",
      "Categories (8, int64): [8 < 7 < 6 < 5 < 4 < 3 < 2 < 1]\n",
      "Item2 \n",
      "\t [3, 3, 4, 4, 3]\n",
      "Categories (8, int64): [8 < 7 < 6 < 5 < 4 < 3 < 2 < 1]\n",
      "Item3 \n",
      "\t [3, 4, 4, 2, 4]\n",
      "Categories (8, int64): [8 < 7 < 6 < 5 < 4 < 3 < 2 < 1]\n",
      "Item4 \n",
      "\t [5, 4, 3, 3, 4]\n",
      "Categories (8, int64): [8 < 7 < 6 < 5 < 4 < 3 < 2 < 1]\n",
      "Item5 \n",
      "\t [3, 4, 3, 3, 4]\n",
      "Categories (8, int64): [8 < 7 < 6 < 5 < 4 < 3 < 2 < 1]\n",
      "Item6 \n",
      "\t [4, 5, 6, 4, 3]\n",
      "Categories (8, int64): [8 < 7 < 6 < 5 < 4 < 3 < 2 < 1]\n",
      "Item7 \n",
      "\t [5, 1, 3, 4, 4]\n",
      "Categories (8, int64): [8 < 7 < 6 < 5 < 4 < 3 < 2 < 1]\n",
      "Item8 \n",
      "\t [4, 4, 5, 2, 3]\n",
      "Categories (8, int64): [8 < 7 < 6 < 5 < 4 < 3 < 2 < 1]\n"
     ]
    }
   ],
   "source": [
    "for feature in medical.columns:\n",
    "    print(feature, \"\\n\\t\", medical[feature].sample(5).values)"
   ]
  },
  {
   "cell_type": "code",
   "execution_count": 45,
   "metadata": {},
   "outputs": [
    {
     "data": {
      "text/plain": [
       "Age\n",
       "NaN     2414\n",
       "30.0     126\n",
       "47.0     124\n",
       "74.0     123\n",
       "38.0     123\n",
       "        ... \n",
       "82.0      90\n",
       "75.0      90\n",
       "63.0      90\n",
       "51.0      89\n",
       "36.0      85\n",
       "Name: count, Length: 73, dtype: int64"
      ]
     },
     "execution_count": 45,
     "metadata": {},
     "output_type": "execute_result"
    }
   ],
   "source": [
    "# medical.VitD_supp.value_counts()\n",
    "# medical.Doc_visits.value_counts()\n",
    "# medical.Full_meals_eaten.value_counts()\n",
    "# medical.Full_meals_eaten.value_counts()\n",
    "# medical.Initial_admin.value_counts().index\n",
    "# medical.Services.value_counts().index\n",
    "# len(medical.Timezone.value_counts().index.categories)\n",
    "medical.Age.value_counts(dropna=False)"
   ]
  },
  {
   "cell_type": "code",
   "execution_count": 46,
   "metadata": {},
   "outputs": [
    {
     "name": "stdout",
     "output_type": "stream",
     "text": [
      "18.0 89.0\n"
     ]
    }
   ],
   "source": [
    "# print(\n",
    "#     medical.VitD_levels.min(),\n",
    "#     medical.VitD_levels.max())\n",
    "\n",
    "# print(\n",
    "#     medical.Initial_days.min(),\n",
    "#     medical.Initial_days.max())\n",
    "\n",
    "print(\n",
    "    medical.Age.min(),\n",
    "    medical.Age.max())"
   ]
  },
  {
   "cell_type": "markdown",
   "metadata": {},
   "source": []
  },
  {
   "cell_type": "code",
   "execution_count": 47,
   "metadata": {},
   "outputs": [
    {
     "name": "stdout",
     "output_type": "stream",
     "text": [
      "<class 'pandas.core.frame.DataFrame'>\n",
      "RangeIndex: 10000 entries, 0 to 9999\n",
      "Data columns (total 51 columns):\n",
      " #   Column              Non-Null Count  Dtype   \n",
      "---  ------              --------------  -----   \n",
      " 0   Customer_id         10000 non-null  object  \n",
      " 1   Interaction         10000 non-null  object  \n",
      " 2   UID                 10000 non-null  object  \n",
      " 3   City                10000 non-null  category\n",
      " 4   State               10000 non-null  category\n",
      " 5   County              10000 non-null  category\n",
      " 6   Zip                 10000 non-null  category\n",
      " 7   Lat                 10000 non-null  float64 \n",
      " 8   Lng                 10000 non-null  float64 \n",
      " 9   Population          10000 non-null  int64   \n",
      " 10  Area                10000 non-null  category\n",
      " 11  Timezone            10000 non-null  category\n",
      " 12  Job                 10000 non-null  object  \n",
      " 13  Children            7412 non-null   float64 \n",
      " 14  Age                 7586 non-null   float64 \n",
      " 15  Education           10000 non-null  category\n",
      " 16  Employment          10000 non-null  category\n",
      " 17  Income              7536 non-null   float64 \n",
      " 18  Marital             10000 non-null  category\n",
      " 19  Gender              10000 non-null  category\n",
      " 20  ReAdmis             10000 non-null  category\n",
      " 21  VitD_levels         10000 non-null  float64 \n",
      " 22  Doc_visits          10000 non-null  int64   \n",
      " 23  Full_meals_eaten    10000 non-null  int64   \n",
      " 24  VitD_supp           10000 non-null  int64   \n",
      " 25  Soft_drink          7533 non-null   category\n",
      " 26  Initial_admin       10000 non-null  category\n",
      " 27  HighBlood           10000 non-null  category\n",
      " 28  Stroke              10000 non-null  category\n",
      " 29  Complication_risk   10000 non-null  category\n",
      " 30  Overweight          9018 non-null   category\n",
      " 31  Arthritis           10000 non-null  category\n",
      " 32  Diabetes            10000 non-null  category\n",
      " 33  Hyperlipidemia      10000 non-null  category\n",
      " 34  BackPain            10000 non-null  category\n",
      " 35  Anxiety             9016 non-null   category\n",
      " 36  Allergic_rhinitis   10000 non-null  category\n",
      " 37  Reflux_esophagitis  10000 non-null  category\n",
      " 38  Asthma              10000 non-null  category\n",
      " 39  Services            10000 non-null  category\n",
      " 40  Initial_days        8944 non-null   float64 \n",
      " 41  TotalCharge         10000 non-null  float64 \n",
      " 42  Additional_charges  10000 non-null  float64 \n",
      " 43  Item1               10000 non-null  category\n",
      " 44  Item2               10000 non-null  category\n",
      " 45  Item3               10000 non-null  category\n",
      " 46  Item4               10000 non-null  category\n",
      " 47  Item5               10000 non-null  category\n",
      " 48  Item6               10000 non-null  category\n",
      " 49  Item7               10000 non-null  category\n",
      " 50  Item8               10000 non-null  category\n",
      "dtypes: category(34), float64(9), int64(4), object(4)\n",
      "memory usage: 2.2+ MB\n"
     ]
    }
   ],
   "source": [
    "medical.info()"
   ]
  },
  {
   "cell_type": "code",
   "execution_count": 48,
   "metadata": {},
   "outputs": [
    {
     "name": "stdout",
     "output_type": "stream",
     "text": [
      "Item1\n",
      "8       1\n",
      "7      10\n",
      "6     225\n",
      "5    1377\n",
      "4    3455\n",
      "3    3404\n",
      "2    1315\n",
      "1     213\n",
      "Name: count, dtype: int64\n",
      "Item2\n",
      "8       0\n",
      "7      12\n",
      "6     204\n",
      "5    1421\n",
      "4    3351\n",
      "3    3439\n",
      "2    1360\n",
      "1     213\n",
      "Name: count, dtype: int64\n",
      "Item3\n",
      "8       1\n",
      "7      11\n",
      "6     220\n",
      "5    1358\n",
      "4    3464\n",
      "3    3379\n",
      "2    1356\n",
      "1     211\n",
      "Name: count, dtype: int64\n",
      "Item4\n",
      "8       0\n",
      "7      12\n",
      "6     231\n",
      "5    1388\n",
      "4    3394\n",
      "3    3422\n",
      "2    1346\n",
      "1     207\n",
      "Name: count, dtype: int64\n",
      "Item5\n",
      "8       0\n",
      "7      13\n",
      "6     219\n",
      "5    1308\n",
      "4    3446\n",
      "3    3423\n",
      "2    1380\n",
      "1     211\n",
      "Name: count, dtype: int64\n",
      "Item6\n",
      "8       0\n",
      "7      10\n",
      "6     220\n",
      "5    1403\n",
      "4    3464\n",
      "3    3371\n",
      "2    1319\n",
      "1     213\n",
      "Name: count, dtype: int64\n",
      "Item7\n",
      "8       0\n",
      "7      11\n",
      "6     212\n",
      "5    1274\n",
      "4    3487\n",
      "3    3456\n",
      "2    1345\n",
      "1     215\n",
      "Name: count, dtype: int64\n",
      "Item8\n",
      "8       0\n",
      "7      12\n",
      "6     221\n",
      "5    1429\n",
      "4    3337\n",
      "3    3401\n",
      "2    1391\n",
      "1     209\n",
      "Name: count, dtype: int64\n"
     ]
    }
   ],
   "source": [
    "for i in range(1, 9):\n",
    "    print(medical[f\"Item{i}\"].value_counts().sort_index())"
   ]
  },
  {
   "cell_type": "code",
   "execution_count": 49,
   "metadata": {},
   "outputs": [],
   "source": [
    "item_cols = [f\"Item{i}\" for i in range(1, 9)]\n",
    "\n",
    "survey_reverse = medical[item_cols].copy(deep=True)"
   ]
  },
  {
   "cell_type": "code",
   "execution_count": 50,
   "metadata": {},
   "outputs": [],
   "source": [
    "entry_inverse_map = {\n",
    "    1: 8,\n",
    "    2: 7,\n",
    "    3: 6,\n",
    "    4: 5,\n",
    "    5: 4,\n",
    "    6: 3,\n",
    "    7: 2,\n",
    "    8: 1\n",
    "}\n",
    "\n",
    "for i in range(1, 9):\n",
    "\n",
    "    survey_reverse[f\"Item{i}\"] = (\n",
    "        survey_reverse[f\"Item{i}\"].astype(int).map(entry_inverse_map))"
   ]
  },
  {
   "cell_type": "code",
   "execution_count": 51,
   "metadata": {},
   "outputs": [
    {
     "data": {
      "text/html": [
       "<div>\n",
       "<style scoped>\n",
       "    .dataframe tbody tr th:only-of-type {\n",
       "        vertical-align: middle;\n",
       "    }\n",
       "\n",
       "    .dataframe tbody tr th {\n",
       "        vertical-align: top;\n",
       "    }\n",
       "\n",
       "    .dataframe thead th {\n",
       "        text-align: right;\n",
       "    }\n",
       "</style>\n",
       "<table border=\"1\" class=\"dataframe\">\n",
       "  <thead>\n",
       "    <tr style=\"text-align: right;\">\n",
       "      <th></th>\n",
       "      <th>Item1</th>\n",
       "      <th>Item2</th>\n",
       "      <th>Item3</th>\n",
       "      <th>Item4</th>\n",
       "      <th>Item5</th>\n",
       "      <th>Item6</th>\n",
       "      <th>Item7</th>\n",
       "      <th>Item8</th>\n",
       "    </tr>\n",
       "  </thead>\n",
       "  <tbody>\n",
       "    <tr>\n",
       "      <th>0</th>\n",
       "      <td>6</td>\n",
       "      <td>6</td>\n",
       "      <td>7</td>\n",
       "      <td>7</td>\n",
       "      <td>5</td>\n",
       "      <td>6</td>\n",
       "      <td>6</td>\n",
       "      <td>5</td>\n",
       "    </tr>\n",
       "    <tr>\n",
       "      <th>1</th>\n",
       "      <td>6</td>\n",
       "      <td>5</td>\n",
       "      <td>6</td>\n",
       "      <td>5</td>\n",
       "      <td>5</td>\n",
       "      <td>5</td>\n",
       "      <td>6</td>\n",
       "      <td>6</td>\n",
       "    </tr>\n",
       "    <tr>\n",
       "      <th>2</th>\n",
       "      <td>7</td>\n",
       "      <td>5</td>\n",
       "      <td>5</td>\n",
       "      <td>5</td>\n",
       "      <td>6</td>\n",
       "      <td>5</td>\n",
       "      <td>6</td>\n",
       "      <td>6</td>\n",
       "    </tr>\n",
       "    <tr>\n",
       "      <th>3</th>\n",
       "      <td>6</td>\n",
       "      <td>4</td>\n",
       "      <td>4</td>\n",
       "      <td>6</td>\n",
       "      <td>5</td>\n",
       "      <td>4</td>\n",
       "      <td>4</td>\n",
       "      <td>4</td>\n",
       "    </tr>\n",
       "    <tr>\n",
       "      <th>4</th>\n",
       "      <td>7</td>\n",
       "      <td>8</td>\n",
       "      <td>6</td>\n",
       "      <td>6</td>\n",
       "      <td>4</td>\n",
       "      <td>6</td>\n",
       "      <td>5</td>\n",
       "      <td>6</td>\n",
       "    </tr>\n",
       "  </tbody>\n",
       "</table>\n",
       "</div>"
      ],
      "text/plain": [
       "   Item1  Item2  Item3  Item4  Item5  Item6  Item7  Item8\n",
       "0      6      6      7      7      5      6      6      5\n",
       "1      6      5      6      5      5      5      6      6\n",
       "2      7      5      5      5      6      5      6      6\n",
       "3      6      4      4      6      5      4      4      4\n",
       "4      7      8      6      6      4      6      5      6"
      ]
     },
     "metadata": {},
     "output_type": "display_data"
    },
    {
     "data": {
      "text/html": [
       "<div>\n",
       "<style scoped>\n",
       "    .dataframe tbody tr th:only-of-type {\n",
       "        vertical-align: middle;\n",
       "    }\n",
       "\n",
       "    .dataframe tbody tr th {\n",
       "        vertical-align: top;\n",
       "    }\n",
       "\n",
       "    .dataframe thead th {\n",
       "        text-align: right;\n",
       "    }\n",
       "</style>\n",
       "<table border=\"1\" class=\"dataframe\">\n",
       "  <thead>\n",
       "    <tr style=\"text-align: right;\">\n",
       "      <th></th>\n",
       "      <th>Item1</th>\n",
       "      <th>Item2</th>\n",
       "      <th>Item3</th>\n",
       "      <th>Item4</th>\n",
       "      <th>Item5</th>\n",
       "      <th>Item6</th>\n",
       "      <th>Item7</th>\n",
       "      <th>Item8</th>\n",
       "    </tr>\n",
       "  </thead>\n",
       "  <tbody>\n",
       "    <tr>\n",
       "      <th>0</th>\n",
       "      <td>3</td>\n",
       "      <td>3</td>\n",
       "      <td>2</td>\n",
       "      <td>2</td>\n",
       "      <td>4</td>\n",
       "      <td>3</td>\n",
       "      <td>3</td>\n",
       "      <td>4</td>\n",
       "    </tr>\n",
       "    <tr>\n",
       "      <th>1</th>\n",
       "      <td>3</td>\n",
       "      <td>4</td>\n",
       "      <td>3</td>\n",
       "      <td>4</td>\n",
       "      <td>4</td>\n",
       "      <td>4</td>\n",
       "      <td>3</td>\n",
       "      <td>3</td>\n",
       "    </tr>\n",
       "    <tr>\n",
       "      <th>2</th>\n",
       "      <td>2</td>\n",
       "      <td>4</td>\n",
       "      <td>4</td>\n",
       "      <td>4</td>\n",
       "      <td>3</td>\n",
       "      <td>4</td>\n",
       "      <td>3</td>\n",
       "      <td>3</td>\n",
       "    </tr>\n",
       "    <tr>\n",
       "      <th>3</th>\n",
       "      <td>3</td>\n",
       "      <td>5</td>\n",
       "      <td>5</td>\n",
       "      <td>3</td>\n",
       "      <td>4</td>\n",
       "      <td>5</td>\n",
       "      <td>5</td>\n",
       "      <td>5</td>\n",
       "    </tr>\n",
       "    <tr>\n",
       "      <th>4</th>\n",
       "      <td>2</td>\n",
       "      <td>1</td>\n",
       "      <td>3</td>\n",
       "      <td>3</td>\n",
       "      <td>5</td>\n",
       "      <td>3</td>\n",
       "      <td>4</td>\n",
       "      <td>3</td>\n",
       "    </tr>\n",
       "  </tbody>\n",
       "</table>\n",
       "</div>"
      ],
      "text/plain": [
       "  Item1 Item2 Item3 Item4 Item5 Item6 Item7 Item8\n",
       "0     3     3     2     2     4     3     3     4\n",
       "1     3     4     3     4     4     4     3     3\n",
       "2     2     4     4     4     3     4     3     3\n",
       "3     3     5     5     3     4     5     5     5\n",
       "4     2     1     3     3     5     3     4     3"
      ]
     },
     "metadata": {},
     "output_type": "display_data"
    }
   ],
   "source": [
    "display(\n",
    "    survey_reverse.head(),\n",
    "    medical[item_cols].head())"
   ]
  },
  {
   "cell_type": "code",
   "execution_count": null,
   "metadata": {},
   "outputs": [],
   "source": []
  }
 ],
 "metadata": {
  "kernelspec": {
   "display_name": "wgu_env",
   "language": "python",
   "name": "python3"
  },
  "language_info": {
   "codemirror_mode": {
    "name": "ipython",
    "version": 3
   },
   "file_extension": ".py",
   "mimetype": "text/x-python",
   "name": "python",
   "nbconvert_exporter": "python",
   "pygments_lexer": "ipython3",
   "version": "3.12.2"
  }
 },
 "nbformat": 4,
 "nbformat_minor": 2
}
